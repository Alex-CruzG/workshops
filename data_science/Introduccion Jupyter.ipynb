{
 "cells": [
  {
   "cell_type": "code",
   "execution_count": null,
   "id": "perceived-companion",
   "metadata": {},
   "outputs": [],
   "source": [
    "!jt -r"
   ]
  },
  {
   "cell_type": "code",
   "execution_count": null,
   "id": "78355845-777a-44e7-b287-278c9015b17d",
   "metadata": {},
   "outputs": [],
   "source": [
    "%%html\n",
    "<style>\n",
    ".output_wrapper, .output {\n",
    "    height:auto !important;\n",
    "    max-height:1700px;  /* your desired max-height here */\n",
    "}\n",
    ".output_scroll {\n",
    "    box-shadow:none !important;\n",
    "    webkit-box-shadow:none !important;\n",
    "}\n",
    ".CodeMirror{\n",
    "    font-size: 20px;\n",
    "}\n",
    "\n",
    ".rendered_html table, .rendered_html td, .rendered_html th {\n",
    "    font-size: 120%;\n",
    "}\n",
    "</style>"
   ]
  },
  {
   "cell_type": "markdown",
   "id": "elementary-google",
   "metadata": {},
   "source": [
    "# Celdas código"
   ]
  },
  {
   "cell_type": "code",
   "execution_count": null,
   "id": "cheap-philosophy",
   "metadata": {
    "scrolled": true
   },
   "outputs": [],
   "source": [
    "import numpy as np\n",
    "from matplotlib import pyplot as plt\n",
    "\n",
    "t = np.linspace(0,5,1000)\n",
    "plt.plot(t,np.sin(2*np.pi*t))\n",
    "plt.show()"
   ]
  },
  {
   "cell_type": "markdown",
   "id": "christian-convertible",
   "metadata": {},
   "source": [
    "# Celdas Markdown"
   ]
  },
  {
   "cell_type": "markdown",
   "id": "adaptive-confusion",
   "metadata": {},
   "source": [
    "# Título 1\n",
    "## Título 2\n",
    "### Título 3"
   ]
  },
  {
   "cell_type": "markdown",
   "id": "ecological-small",
   "metadata": {},
   "source": [
    "### Texto\n",
    "**Lorem ipsum** dolor sit amet, consectetur adipiscing elit. Praesent nec sapien et mauris sollicitudin ornare. Ut justo ex, mattis in neque eu, ullamcorper ullamcorper erat. \n",
    "\n",
    "*Vivamus faucibus lacus quis pharetra convallis*.\n",
    " - dolor sit amet\n",
    " - consectetur \n",
    " - adipiscing elit\n",
    "\n",
    "*Vivamus faucibus lacus quis pharetra convallis*.\n",
    " 1. dolor sit amet\n",
    " 1. consectetur \n",
    " 1. adipiscing elit"
   ]
  },
  {
   "cell_type": "markdown",
   "id": "unlikely-gateway",
   "metadata": {},
   "source": [
    "### Ecuaciones\n",
    "\n",
    "$$ y({\\bf x}) = \\sum_{k=1}^{k=N}w_i x_i + b$$ \n",
    "$${\\bf w},{\\bf x}\\in\\mathbb{R}^N , b\\in\\mathbb{R}$$ "
   ]
  }
 ],
 "metadata": {
  "kernelspec": {
   "display_name": "Python 3",
   "language": "python",
   "name": "python3"
  },
  "language_info": {
   "codemirror_mode": {
    "name": "ipython",
    "version": 3
   },
   "file_extension": ".py",
   "mimetype": "text/x-python",
   "name": "python",
   "nbconvert_exporter": "python",
   "pygments_lexer": "ipython3",
   "version": "3.8.10"
  }
 },
 "nbformat": 4,
 "nbformat_minor": 5
}
