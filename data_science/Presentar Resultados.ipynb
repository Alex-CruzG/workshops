{
 "cells": [
  {
   "cell_type": "markdown",
   "id": "e13feeed",
   "metadata": {},
   "source": [
    "# Temas: Presentar Resultados\n",
    "<br/><br/>"
   ]
  },
  {
   "cell_type": "markdown",
   "id": "framed-sponsorship",
   "metadata": {},
   "source": [
    "<center>\n",
    "    \n",
    "## Taller de Ciencia de Datos\n",
    "### Omar Piña Ramírez\n",
    "### Instituto Nacional de Perinatología\n",
    "### Departamento de Bioinformática y Análisis Estadísticos\n",
    "### Investigador en Ciencias Médicas\n",
    "### delozath@gmail.com\n",
    "</center>"
   ]
  },
  {
   "cell_type": "code",
   "execution_count": null,
   "id": "processed-death",
   "metadata": {},
   "outputs": [],
   "source": [
    "%%html\n",
    "<style>\n",
    ".output_wrapper, .output {\n",
    "    height:auto !important;\n",
    "    max-height:1500px;  /* your desired max-height here */\n",
    "}\n",
    ".output_scroll {\n",
    "    box-shadow:none !important;\n",
    "    webkit-box-shadow:none !important;\n",
    "}\n",
    ".CodeMirror{\n",
    "    font-size: 15px;\n",
    "}\n",
    "\n",
    ".rendered_html table, .rendered_html td, .rendered_html th {\n",
    "    font-size: 120%;\n",
    "}\n",
    "</style>"
   ]
  },
  {
   "cell_type": "code",
   "execution_count": null,
   "id": "finished-sailing",
   "metadata": {
    "scrolled": true
   },
   "outputs": [],
   "source": [
    "import numpy   as np\n",
    "import pandas  as pd\n",
    "import seaborn as sns\n",
    "\n",
    "from   matplotlib import pyplot as plt\n",
    "\n",
    "import ipywidgets as widgets\n",
    "from   ipywidgets import interact, interact_manual, FloatSlider, Layout\n",
    "\n",
    "import chart_studio.plotly as py\n",
    "import plotly.graph_objs   as go\n",
    "import plotly.express      as px\n",
    "from   plotly.offline      import iplot, init_notebook_mode\n",
    "\n",
    "import cufflinks\n",
    "cufflinks.go_offline(connected=True)\n",
    "init_notebook_mode (connected=True)"
   ]
  },
  {
   "cell_type": "markdown",
   "id": "otherwise-disposition",
   "metadata": {},
   "source": [
    "## Gráficas"
   ]
  },
  {
   "cell_type": "markdown",
   "id": "chronic-delicious",
   "metadata": {},
   "source": [
    "### Datos Infarto"
   ]
  },
  {
   "cell_type": "code",
   "execution_count": null,
   "id": "distinct-boost",
   "metadata": {
    "scrolled": false
   },
   "outputs": [],
   "source": [
    "PATH  = './data/'\n",
    "file = 'cardiovascular.csv'\n",
    "\n",
    "data = pd.read_csv(PATH + file)\n",
    "data = data.drop(columns='ind')\n",
    "data"
   ]
  },
  {
   "cell_type": "code",
   "execution_count": null,
   "id": "ranking-finding",
   "metadata": {},
   "outputs": [],
   "source": [
    "groups = ['famhist','chd']\n",
    "cols   = ['sbp', 'tobacco', 'ldl', 'adiposity', 'typea', 'obesity','alcohol', 'age']"
   ]
  },
  {
   "cell_type": "markdown",
   "id": "soviet-selling",
   "metadata": {},
   "source": [
    "### Gráficas de caja"
   ]
  },
  {
   "cell_type": "code",
   "execution_count": null,
   "id": "nasty-hammer",
   "metadata": {},
   "outputs": [],
   "source": [
    "df = pd.melt(data,id_vars=groups[0])\n",
    "df"
   ]
  },
  {
   "cell_type": "code",
   "execution_count": null,
   "id": "included-first",
   "metadata": {
    "scrolled": true
   },
   "outputs": [],
   "source": [
    "fig, ax = plt.subplots(1,1,figsize=(10,6))\n",
    "sns.boxplot(x='variable',y='value',hue=groups[0],data=df,ax=ax)\n",
    "ax.grid(b=True)\n",
    "ax.set_title('Boxplot',fontsize=15)\n",
    "plt.show()"
   ]
  },
  {
   "cell_type": "code",
   "execution_count": null,
   "id": "specified-nurse",
   "metadata": {
    "scrolled": true
   },
   "outputs": [],
   "source": [
    "df = pd.melt(data.drop(columns='famhist'),id_vars=groups[1])\n",
    "fig, ax = plt.subplots(1,1,figsize=(10,6))\n",
    "sns.boxplot(x='variable',y='value',hue=groups[1],data=df,ax=ax)\n",
    "ax.grid(b=True)\n",
    "ax.set_title('Boxplot',fontsize=15)\n",
    "plt.show()"
   ]
  },
  {
   "cell_type": "markdown",
   "id": "surface-thesaurus",
   "metadata": {},
   "source": [
    "### Heatmap: outlayers"
   ]
  },
  {
   "cell_type": "code",
   "execution_count": null,
   "id": "banned-combining",
   "metadata": {
    "scrolled": true
   },
   "outputs": [],
   "source": [
    "from scipy.stats import zscore\n",
    "\n",
    "df       = data\n",
    "fig, ax  = plt.subplots(2,2,figsize=(12,15))\n",
    "for n,(group, vals) in enumerate( df.groupby(['famhist','chd']) ):\n",
    "    i,j = n%2, n//2\n",
    "    df_zscore = vals.drop(columns=['famhist','chd']).apply(zscore)\n",
    "    #cmap='Spectral'\n",
    "    sns.heatmap(df_zscore,ax=ax[i,j])\n",
    "    ax[i,j].set_title(\"Fam-Hist: {}, chf: {}\".format(*group))\n",
    "\n",
    "plt.show()"
   ]
  },
  {
   "cell_type": "markdown",
   "id": "piano-stuart",
   "metadata": {},
   "source": [
    "### Distribución de clases"
   ]
  },
  {
   "cell_type": "code",
   "execution_count": null,
   "id": "unlikely-probe",
   "metadata": {},
   "outputs": [],
   "source": [
    "from sklearn.datasets import make_blobs\n",
    "centers = [(-.5, -.5), (.5, .5)]\n",
    "samples = [50, 100, 500]\n",
    "var     = [.5, 1, 2]\n",
    "\n",
    "@interact\n",
    "def scatter_plot(n_samples=(50,1000,100),v0=var, v1=var):\n",
    "    X, y = make_blobs(n_samples=n_samples, centers=centers, cluster_std=[v0,v1] )\n",
    "    fig  = px.scatter(x=X[:,0], y=X[:,1],color=y.astype('int'),width=600, height=600)\n",
    "    fig.update_traces(marker={'size': 15})\n",
    "    fig.show()"
   ]
  },
  {
   "cell_type": "code",
   "execution_count": null,
   "id": "cosmetic-object",
   "metadata": {},
   "outputs": [],
   "source": [
    "centers = [(-.5, -.5), (.5, .5)]\n",
    "samples = 500\n",
    "var     = [.5, 1]\n",
    "\n",
    "X, y = make_blobs(n_samples=500, centers=centers, cluster_std=var )\n",
    "\n",
    "fig, ax = plt.subplots(1,1,figsize=(8,8))\n",
    "sns.scatterplot(x=X[:,0], y=X[:,1], hue=y, s=80)\n",
    "ax.grid(b=True)"
   ]
  },
  {
   "cell_type": "code",
   "execution_count": null,
   "id": "respective-medline",
   "metadata": {},
   "outputs": [],
   "source": [
    "from sklearn.svm             import SVC\n",
    "from sklearn.model_selection import ShuffleSplit\n",
    "from sklearn.metrics         import recall_score as sensitivity\n",
    "\n",
    "k     = 10\n",
    "sf    = ShuffleSplit(n_splits=k,test_size=.25)\n",
    "model = SVC(kernel='linear')\n",
    "\n",
    "sen_perform = []\n",
    "spe_perform = []\n",
    "for train,test in sf.split(X,y):\n",
    "    model.fit(X[train],y[train].ravel())\n",
    "    L   = model.predict(X[test])\n",
    "    sen = sensitivity(y[test],L)\n",
    "    spe = sensitivity(y[test],L,pos_label=0)\n",
    "    print(\"Sensitivity: {:.3f}, Specificity: {:3f}\".format(sen,spe))\n",
    "    sen_perform.append(sen)\n",
    "    spe_perform.append(spe)\n",
    "\n",
    "sen_perform = np.array(sen_perform)\n",
    "spe_perform = np.array(spe_perform)\n",
    "print(\"\\nPerformance\")\n",
    "print(\"Sensitivity: {:.3f} ± {:.3f}\".format(sen_perform.mean(),sen_perform.std()))\n",
    "print(\"Specificity: {:.3f} ± {:.3f}\".format(spe_perform.mean(),spe_perform.std()))"
   ]
  },
  {
   "cell_type": "code",
   "execution_count": null,
   "id": "attempted-cargo",
   "metadata": {},
   "outputs": [],
   "source": [
    "N  = 200\n",
    "xx = np.linspace(-3, 3.75, N)\n",
    "XX = np.meshgrid(xx,xx)\n",
    "XX = np.array([XX[0].ravel(),XX[1].ravel()]).T\n",
    "L  = model.predict(XX)\n",
    "L  = L.reshape(N,N)\n",
    "\n",
    "plt.figure(figsize=(7,7))\n",
    "plt.imshow(L,origin='lower', cmap='inferno',extent=[-3, 3.75, -3, 3.75])\n",
    "plt.plot(X[y==1,0],X[y==1,1],'o',color='orange',markersize=8)\n",
    "plt.plot(X[y==0,0],X[y==0,1],'o',color='blue'  ,markersize=8)\n",
    "plt.show()"
   ]
  },
  {
   "cell_type": "code",
   "execution_count": null,
   "id": "theoretical-thompson",
   "metadata": {},
   "outputs": [],
   "source": [
    "@interact\n",
    "def rsvm_distr(gamma=[0.001, 0.01, 0.05, 0.1, 1, 3, 4]):\n",
    "    model = SVC(kernel='rbf',gamma=gamma)\n",
    "    \n",
    "    sen_perform = []\n",
    "    spe_perform = []\n",
    "    for train,test in sf.split(X,y):\n",
    "        model.fit(X[train],y[train].ravel())\n",
    "        L   = model.predict(X[test])\n",
    "        sen = sensitivity(y[test],L)\n",
    "        spe = sensitivity(y[test],L,pos_label=0)\n",
    "        print(\"Sensitivity: {:.3f}, Specificity: {:3f}\".format(sen,spe))\n",
    "        sen_perform.append(sen)\n",
    "        spe_perform.append(spe)\n",
    "    \n",
    "    sen_perform = np.array(sen_perform)\n",
    "    spe_perform = np.array(spe_perform)\n",
    "    print(\"\\nPerformance\")\n",
    "    print(\"Sensitivity: {:.3f} ± {:.3f}\".format(sen_perform.mean(),sen_perform.std()))\n",
    "    print(\"Specificity: {:.3f} ± {:.3f}\".format(spe_perform.mean(),spe_perform.std()))\n",
    "    \n",
    "    L  = model.predict(XX)\n",
    "    L  = L.reshape(N,N)\n",
    "    \n",
    "    plt.figure(figsize=(7,7))\n",
    "    plt.imshow(L,origin='lower', cmap='inferno',extent=[-3, 3.75, -3, 3.75])\n",
    "    plt.plot(X[y==1,0],X[y==1,1],'o',color='orange',markersize=8)\n",
    "    plt.plot(X[y==0,0],X[y==0,1],'o',color='blue'  ,markersize=8)\n",
    "    plt.show()"
   ]
  },
  {
   "cell_type": "code",
   "execution_count": null,
   "id": "vocal-oracle",
   "metadata": {},
   "outputs": [],
   "source": [
    "@interact\n",
    "def rsvm_distr(gamma=[0.001, 0.01, 0.05, 0.1, 1, 3, 4],C=[0.01, 0.1, 1, 5, 10, 20]):\n",
    "    model = SVC(kernel='rbf',C=C, gamma=gamma)\n",
    "    \n",
    "    sen_perform = []\n",
    "    spe_perform = []\n",
    "    for train,test in sf.split(X,y):\n",
    "        model.fit(X[train],y[train].ravel())\n",
    "        L   = model.predict(X[test])\n",
    "        sen = sensitivity(y[test],L)\n",
    "        spe = sensitivity(y[test],L,pos_label=0)\n",
    "        #print(\"Sensitivity: {:.3f}, Specificity: {:3f}\".format(sen,spe))\n",
    "        sen_perform.append(sen)\n",
    "        spe_perform.append(spe)\n",
    "    \n",
    "    sen_perform = np.array(sen_perform)\n",
    "    spe_perform = np.array(spe_perform)\n",
    "    print(\"\\nPerformance\")\n",
    "    print(\"Sensitivity: {:.3f} ± {:.3f}\".format(sen_perform.mean(),sen_perform.std()))\n",
    "    print(\"Specificity: {:.3f} ± {:.3f}\".format(spe_perform.mean(),spe_perform.std()))\n",
    "    \n",
    "    L  = model.predict(XX)\n",
    "    L  = L.reshape(N,N)\n",
    "    \n",
    "    plt.figure(figsize=(7,7))\n",
    "    plt.imshow(L,origin='lower', cmap='inferno',extent=[-3, 3.75, -3, 3.75])\n",
    "    plt.plot(X[y==1,0],X[y==1,1],'o',color='orange',markersize=8)\n",
    "    plt.plot(X[y==0,0],X[y==0,1],'o',color='blue'  ,markersize=8)\n",
    "    plt.show()"
   ]
  },
  {
   "cell_type": "code",
   "execution_count": null,
   "id": "cardiac-bibliography",
   "metadata": {},
   "outputs": [],
   "source": [
    "@interact\n",
    "def rsvm_distr(gamma=[0.001, 0.01, 0.05, 0.1, 1, 3, 4],C=[0.01, 0.1, 1, 5, 10, 20]):\n",
    "    model = SVC(kernel='rbf',C=C, gamma=gamma, probability=True)\n",
    "    \n",
    "    model.fit(X[:400],y[:400].ravel())\n",
    "    L  = model.predict_proba(XX)[:,0]\n",
    "    L  = L.reshape(N,N)\n",
    "    \n",
    "    plt.figure(figsize=(7,7))\n",
    "    plt.imshow(L,origin='lower', cmap='inferno',extent=[-3, 3.75, -3, 3.75])\n",
    "    plt.plot(X[y==1,0],X[y==1,1],'o',color='orange',markersize=8)\n",
    "    plt.plot(X[y==0,0],X[y==0,1],'o',color='blue'  ,markersize=8)\n",
    "    plt.show()"
   ]
  }
 ],
 "metadata": {
  "kernelspec": {
   "display_name": "Python 3",
   "language": "python",
   "name": "python3"
  },
  "language_info": {
   "codemirror_mode": {
    "name": "ipython",
    "version": 3
   },
   "file_extension": ".py",
   "mimetype": "text/x-python",
   "name": "python",
   "nbconvert_exporter": "python",
   "pygments_lexer": "ipython3",
   "version": "3.8.10"
  }
 },
 "nbformat": 4,
 "nbformat_minor": 5
}
