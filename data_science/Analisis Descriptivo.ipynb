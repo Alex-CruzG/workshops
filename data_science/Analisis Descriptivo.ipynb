{
 "cells": [
  {
   "cell_type": "markdown",
   "id": "e33068a8",
   "metadata": {},
   "source": [
    "# Tema: Análisis Descriptivo e Inspección\n",
    "<br/><br/>"
   ]
  },
  {
   "cell_type": "markdown",
   "id": "framed-sponsorship",
   "metadata": {},
   "source": [
    "<center>\n",
    "    \n",
    "## Taller de Ciencia de Datos\n",
    "### Omar Piña Ramírez\n",
    "### Instituto Nacional de Perinatología\n",
    "### Departamento de Bioinformática y Análisis Estadísticos\n",
    "### Investigador en Ciencias Médicas\n",
    "### delozath@gmail.com\n",
    "</center>"
   ]
  },
  {
   "cell_type": "code",
   "execution_count": null,
   "id": "8406c102",
   "metadata": {},
   "outputs": [],
   "source": [
    "%%html\n",
    "<style>\n",
    ".output_wrapper, .output {\n",
    "    height:auto !important;\n",
    "    max-height:1500px;  /* your desired max-height here */\n",
    "}\n",
    ".output_scroll {\n",
    "    box-shadow:none !important;\n",
    "    webkit-box-shadow:none !important;\n",
    "}\n",
    ".CodeMirror{\n",
    "    font-size: 20px;\n",
    "}\n",
    "\n",
    ".rendered_html table, .rendered_html td, .rendered_html th {\n",
    "    font-size: 120%;\n",
    "}\n",
    "</style>"
   ]
  },
  {
   "cell_type": "code",
   "execution_count": null,
   "id": "finished-sailing",
   "metadata": {},
   "outputs": [],
   "source": [
    "import numpy   as np\n",
    "import pandas  as pd\n",
    "import seaborn as sns\n",
    "\n",
    "from   matplotlib import pyplot as plt\n",
    "\n",
    "import ipywidgets as widgets\n",
    "from   ipywidgets import interact, interact_manual, FloatSlider, Layout\n",
    "\n",
    "import chart_studio.plotly as py\n",
    "import plotly.graph_objs   as go\n",
    "import plotly.express      as px\n",
    "from   plotly.offline      import iplot, init_notebook_mode\n",
    "\n",
    "import cufflinks\n",
    "cufflinks.go_offline(connected=True)\n",
    "init_notebook_mode (connected=True)"
   ]
  },
  {
   "cell_type": "markdown",
   "id": "39f15b02",
   "metadata": {},
   "source": [
    "## Database\n",
    "\n",
    "[Kaggle: Cardiovascular Disease heart attack by statistical learning](https://www.kaggle.com/yassinehamdaoui1/cardiovascular-disease/code)\n",
    "\n",
    "| Feature  | Descripción                         | Tipo       |\n",
    "|---------:|:------------------------------------|:-----------|\n",
    "|sbp       | Systolic blood pressure             | Numérico   | \n",
    "|tobacco   | Cumulative tobacco                  | Numérico   | \n",
    "|ldl       | Low density lipoprotein cholesterol | Numérico   | \n",
    "|adiposity |                                     | Numérico   | \n",
    "|famhist   | Family history of heart disease     | Categórico | \n",
    "|typea     | Type-A behavior                     | Numérico   | \n",
    "|obesity   |                                     | Numérico   | \n",
    "|alcohol   | Current alcohol consumption         | Numérico   | \n",
    "|age       | Age at onset                        | Numérico   | \n",
    "|chd       | Response                            | Target     |\n",
    "\n",
    "\n",
    "[Rousseauw, J., du Plessis, J., Benade, A., Jordaan, P., Kotze, J. and Ferreira, J. (1983). Coronary risk factor screening in three rural communities, South African Medical Journal 64: 430-436.](https://journals.co.za/doi/pdf/10.10520/AJA20785135_9894)"
   ]
  },
  {
   "cell_type": "markdown",
   "id": "489bd324",
   "metadata": {},
   "source": [
    "## Interacción básica con las bases de datos\n",
    "Biblioteca pandas\n",
    "\n",
    "```python\n",
    "import pandas as pd\n",
    "```"
   ]
  },
  {
   "cell_type": "code",
   "execution_count": null,
   "id": "respective-tennessee",
   "metadata": {},
   "outputs": [],
   "source": [
    "# abrir archivos\n",
    "PATH = './data/'\n",
    "file = 'cardiovascular.csv'\n",
    "\n",
    "data = pd.read_csv(PATH + file)"
   ]
  },
  {
   "cell_type": "code",
   "execution_count": null,
   "id": "gorgeous-avenue",
   "metadata": {},
   "outputs": [],
   "source": [
    "data.head()"
   ]
  },
  {
   "cell_type": "code",
   "execution_count": null,
   "id": "stuffed-dairy",
   "metadata": {},
   "outputs": [],
   "source": [
    "# columnas, tipo variable\n",
    "for n,(i,j) in enumerate(zip(data.columns,data.dtypes)):\n",
    "    print(  \"Columna {:2d}: {:9s} -> {:s}\".format(n,i,str(j))  )"
   ]
  },
  {
   "cell_type": "code",
   "execution_count": null,
   "id": "prepared-courage",
   "metadata": {
    "scrolled": true
   },
   "outputs": [],
   "source": [
    "#estadística\n",
    "data.describe()"
   ]
  },
  {
   "cell_type": "markdown",
   "id": "ac797c53",
   "metadata": {},
   "source": [
    "## Búsquedas y filtros (query)"
   ]
  },
  {
   "cell_type": "code",
   "execution_count": null,
   "id": "found-function",
   "metadata": {
    "scrolled": false
   },
   "outputs": [],
   "source": [
    "query = data['sbp'] > 180\n",
    "data.loc[query]"
   ]
  },
  {
   "cell_type": "code",
   "execution_count": null,
   "id": "4cf82341",
   "metadata": {
    "scrolled": true
   },
   "outputs": [],
   "source": [
    "query = data['sbp'].between(105,200)\n",
    "data.loc[~query]"
   ]
  },
  {
   "cell_type": "code",
   "execution_count": null,
   "id": "4dd4fffc",
   "metadata": {
    "scrolled": true
   },
   "outputs": [],
   "source": [
    "data.query(\"sbp<=105 | sbp>=200\")"
   ]
  },
  {
   "cell_type": "code",
   "execution_count": null,
   "id": "acd51f92",
   "metadata": {},
   "outputs": [],
   "source": [
    "data.query(\"sbp<=105 | adiposity<10\")"
   ]
  },
  {
   "cell_type": "markdown",
   "id": "56778a1d",
   "metadata": {},
   "source": [
    "## Queries dinámicos\n",
    "A través de **decorators** de la clase ipywidgets\n",
    "\n",
    "```python\n",
    "import ipywidgets as widgets\n",
    "from   ipywidgets import interact, interact_manual, FloatSlider, Layout\n",
    "\n",
    "@interact\n",
    "def funcion()\n",
    "    return\n",
    "```"
   ]
  },
  {
   "cell_type": "code",
   "execution_count": null,
   "id": "167955e0",
   "metadata": {
    "scrolled": false
   },
   "outputs": [],
   "source": [
    "@interact\n",
    "def show(column=['sbp','obesity'], x=(0,250,1)):\n",
    "    return data.loc[data[column] < x]"
   ]
  },
  {
   "cell_type": "code",
   "execution_count": null,
   "id": "785a9ac5",
   "metadata": {
    "scrolled": false
   },
   "outputs": [],
   "source": [
    "numeric_cols = data.select_dtypes(np.number)\n",
    "\n",
    "@interact\n",
    "def show(column=numeric_cols, x=(0,250,1)):\n",
    "    return data.loc[data[column] > x]"
   ]
  },
  {
   "cell_type": "code",
   "execution_count": null,
   "id": "meaning-consensus",
   "metadata": {
    "scrolled": false
   },
   "outputs": [],
   "source": [
    "category_cols = data.select_dtypes(exclude=np.number)\n",
    "category_cols"
   ]
  },
  {
   "cell_type": "markdown",
   "id": "dbf9e414",
   "metadata": {},
   "source": [
    "## Gráficas estáticas\n",
    "\n",
    "```python\n",
    "import seaborn as sns\n",
    "from   matplotlib import pyplot as plt\n",
    "```"
   ]
  },
  {
   "cell_type": "code",
   "execution_count": null,
   "id": "0dec49a4",
   "metadata": {
    "scrolled": true
   },
   "outputs": [],
   "source": [
    "fig, ax  = plt.subplots(1,1,figsize=(8,8))\n",
    "sns.scatterplot(x='adiposity',y='obesity',data=data, ax=ax, s=100)\n",
    "ax.grid(b=True, which='major', color='black', linewidth=0.075)\n",
    "plt.show()"
   ]
  },
  {
   "cell_type": "markdown",
   "id": "95cc632d",
   "metadata": {},
   "source": [
    "## Gráficas dinámicas\n",
    "\n",
    "```python\n",
    "import ipywidgets as widgets\n",
    "from   ipywidgets import interact, interact_manual, FloatSlider, Layout\n",
    "\n",
    "import chart_studio.plotly as py\n",
    "import plotly.graph_objs   as go\n",
    "import plotly.express      as px\n",
    "from   plotly.offline      import iplot, init_notebook_mode\n",
    "\n",
    "import cufflinks\n",
    "cufflinks.go_offline(connected=True)\n",
    "init_notebook_mode  (connected=True)\n",
    "\n",
    "@interact\n",
    "def scatter_plot(parms):\n",
    "    px.plot\n",
    "```"
   ]
  },
  {
   "cell_type": "code",
   "execution_count": null,
   "id": "exclusive-census",
   "metadata": {},
   "outputs": [],
   "source": [
    "numeric_cols = data.select_dtypes(include=np.number).columns\n",
    "hue_cols     = ['chd','famhist']\n",
    "\n",
    "@interact\n",
    "def scatter_plot(x=numeric_cols[1:], \n",
    "                 y=numeric_cols[2:],hue=hue_cols):\n",
    "    \n",
    "    fig = px.scatter(data, x=x, y=y, color=hue,\n",
    "                     title=f\"{x.title()} vs {y.title()}\")\n",
    "    fig.update_traces(marker={'size': 15})\n",
    "    fig.show()"
   ]
  },
  {
   "cell_type": "code",
   "execution_count": null,
   "id": "welsh-recipe",
   "metadata": {
    "scrolled": true
   },
   "outputs": [],
   "source": [
    "colors = px.colors.qualitative.T10\n",
    "@interact\n",
    "def scatter_matrixt(hue=hue_cols):\n",
    "    fig = px.scatter_matrix(data, \n",
    "                             color=hue, \n",
    "                             color_discrete_sequence=colors\n",
    "                            )\n",
    "    fig.update_traces(marker={'size': 5})\n",
    "    fig.show()"
   ]
  },
  {
   "cell_type": "code",
   "execution_count": null,
   "id": "emotional-worst",
   "metadata": {
    "scrolled": true
   },
   "outputs": [],
   "source": [
    "numeric_cols = data.select_dtypes('number').columns\n",
    "\n",
    "@interact\n",
    "def hist_plot(x=numeric_cols):\n",
    "    data[x].iplot(kind='hist', x=x, \n",
    "             xTitle=x.title(),  \n",
    "             title=f'Histograma')"
   ]
  },
  {
   "cell_type": "markdown",
   "id": "amber-bailey",
   "metadata": {},
   "source": [
    "## Datos para ejercicios"
   ]
  },
  {
   "cell_type": "markdown",
   "id": "floral-inflation",
   "metadata": {},
   "source": [
    "UCI Machine Learning Repositoru [Breast Cancer Wisconsin (Original) Data Set](https://archive.ics.uci.edu/ml/datasets/Breast+Cancer+Wisconsin+%28Original%29)\n",
    "\n",
    "[Archivo de descripción](./data/breast-cancer-wisconsin.names)\n",
    "\n",
    "[Datos originales](./data/breast-cancer-wisconsin.data)\n",
    "\n",
    "[Datos limpios y con igual prevalencia](./data/breast-cancer-wisconsin_scrubbed_eq-prev.csv)"
   ]
  }
 ],
 "metadata": {
  "kernelspec": {
   "display_name": "Python 3",
   "language": "python",
   "name": "python3"
  },
  "language_info": {
   "codemirror_mode": {
    "name": "ipython",
    "version": 3
   },
   "file_extension": ".py",
   "mimetype": "text/x-python",
   "name": "python",
   "nbconvert_exporter": "python",
   "pygments_lexer": "ipython3",
   "version": "3.8.10"
  }
 },
 "nbformat": 4,
 "nbformat_minor": 5
}
