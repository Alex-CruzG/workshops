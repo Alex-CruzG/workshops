{
 "cells": [
  {
   "cell_type": "code",
   "execution_count": null,
   "id": "rising-virtue",
   "metadata": {},
   "outputs": [],
   "source": [
    "#!jt -t chesterish -tf ptsans -tfs 18 -nf ptsans -nfs 16 -fs 14 -mathfs 100"
   ]
  },
  {
   "cell_type": "code",
   "execution_count": null,
   "id": "unlike-panama",
   "metadata": {},
   "outputs": [],
   "source": [
    "%%html\n",
    "<style>\n",
    ".output_wrapper, .output {\n",
    "    height:auto !important;\n",
    "    max-height:1500px;  /* your desired max-height here */\n",
    "}\n",
    ".output_scroll {\n",
    "    box-shadow:none !important;\n",
    "    webkit-box-shadow:none !important;\n",
    "}\n",
    ".CodeMirror{\n",
    "    font-size: 20px;\n",
    "}\n",
    "\n",
    ".rendered_html table, .rendered_html td, .rendered_html th {\n",
    "    font-size: 110%;\n",
    "}\n",
    "</style>"
   ]
  },
  {
   "cell_type": "markdown",
   "id": "framed-sponsorship",
   "metadata": {},
   "source": [
    "<center>\n",
    "    \n",
    "## Taller de Ciencia de Datos\n",
    "### Omar Piña Ramírez\n",
    "### Instituto Nacional de Perinatología\n",
    "### Departamento de Bioinformática y Análisis Estadísticos\n",
    "### Investigador en Ciencias Médicas\n",
    "### delozath@gmail.com\n",
    "</center>"
   ]
  },
  {
   "cell_type": "markdown",
   "id": "rotary-metabolism",
   "metadata": {},
   "source": [
    "#### Resumen:\n",
    "\n",
    "¿Qué es la ciencia de datos? Diversas son las definiciones y alcances de la ciencia de datos, sin embargo, hay un consenso en las actividades que esta realiza, las cuales son: \n",
    " - preparar los datos\n",
    " - procesarlos\n",
    " - analizarlos\n",
    " - visualizarlos\n",
    " - tomar decisiones basadas en los resultados\n",
    " - apegados al método científico"
   ]
  },
  {
   "cell_type": "markdown",
   "id": "impressed-passing",
   "metadata": {},
   "source": [
    "#### La ciencia de datos \n",
    "Es **multidisciplinaria**, ya que conjunta a: \n",
    " - Matemáticas\n",
    " - Programación\n",
    " - Minería de datos\n",
    " - Machine learning\n",
    " - Inteligencia artificial\n",
    " - Extracción de rasgos\n",
    " - entre muchas otras"
   ]
  },
  {
   "cell_type": "markdown",
   "id": "japanese-litigation",
   "metadata": {},
   "source": [
    "#### Aplicaciones\n",
    "\n",
    "Van desde el \n",
    " - área empresarial\n",
    " - publicidad \n",
    " - **detección temprana y pronóstico en la evolución de enfermedades**"
   ]
  },
  {
   "cell_type": "markdown",
   "id": "injured-catch",
   "metadata": {},
   "source": [
    "#### Objetivo del taller\n",
    "En este taller introductorio a la ciencia de datos en python-jupyter se estudiarán casos prácticos:\n",
    " - datos faltantes\n",
    " - visualización de datos\n",
    " - clasificación automatizada\n",
    " - agrupamiento (clustering) de datos\n",
    " - técnicas para la extracción de información relevante"
   ]
  },
  {
   "cell_type": "markdown",
   "id": "humanitarian-madagascar",
   "metadata": {},
   "source": [
    "## [1. Introducción a Jupyter](./Introduccion%20Jupyter.ipynb)"
   ]
  },
  {
   "cell_type": "markdown",
   "id": "cooperative-cambodia",
   "metadata": {},
   "source": [
    "## ¿Qué es la ciencia de datos?\n",
    "\n",
    "Según IBM-cloud, es una metodología para extraer información relevante y aplicable apartir de los datos recolectados. Las actividades de la Ciencia de Datos son: preparación de los datos, procesamiento, ejecución de análsis avanzado de datos, presentación de estos, tomar decisiónes informadas [IBM](https://www.ibm.com/cloud/learn/data-science-introduction).\n",
    "\n",
    " - Aplicar matemáticas, estadística y método científico\n",
    " - Usar herramientas y métodos para evaluar, preparar e integrar datos: SQL, data mining, hadoop, spark\n",
    " - Extraer información relevante desde los datos: análisis predictivos, inteligencia artificial (pattern recognition, machine learning)\n",
    " - Desarrollar aplicaciones para la automatización de estos procesos\n",
    " - *Tell—and illustrate—stories that clearly convey the meaning of results to decision-makers and stakeholders at every level of technical knowledge and understanding*\n",
    " - Explicar las implicaciones de los resultados"
   ]
  },
  {
   "cell_type": "code",
   "execution_count": null,
   "id": "finished-sailing",
   "metadata": {},
   "outputs": [],
   "source": [
    "import numpy   as np\n",
    "import pandas  as pd\n",
    "import seaborn as sns\n",
    "\n",
    "from   matplotlib import pyplot as plt\n",
    "\n",
    "import ipywidgets as widgets\n",
    "from   ipywidgets import interact, interact_manual, FloatSlider, Layout\n",
    "\n",
    "import chart_studio.plotly as py\n",
    "import plotly.graph_objs   as go\n",
    "import plotly.express      as px\n",
    "from   plotly.offline      import iplot, init_notebook_mode\n",
    "\n",
    "import cufflinks\n",
    "cufflinks.go_offline(connected=True)\n",
    "init_notebook_mode (connected=True)"
   ]
  },
  {
   "cell_type": "markdown",
   "id": "present-rough",
   "metadata": {},
   "source": [
    "# [2. Análisis descriptivo](./Analisis%20Descriptivo.ipynb)"
   ]
  },
  {
   "cell_type": "markdown",
   "id": "balanced-deposit",
   "metadata": {},
   "source": [
    "# [3. Imputación de datos faltantes](./Imputacion%20de%20Datos.ipynb)"
   ]
  },
  {
   "cell_type": "markdown",
   "id": "comparable-style",
   "metadata": {},
   "source": [
    "# 4. Machine Learning\n",
    "\n",
    "### Aprendizaje supervisado y no supervisado"
   ]
  },
  {
   "cell_type": "code",
   "execution_count": null,
   "id": "tamil-lighter",
   "metadata": {},
   "outputs": [],
   "source": [
    "from sklearn.datasets import make_blobs\n",
    "centers = [(-.5, -.5), (.5, .5)]\n",
    "samples = [50, 100, 500, 1000]\n",
    "var     = [0.1, 0.25, .5, 1, 2]\n",
    "\n",
    "@interact\n",
    "def scatter_plot(n_samples=(50,1000,100),v0=var, v1=var,typ=['No Supervisado','Supervisado']):\n",
    "    X, y = make_blobs(n_samples=n_samples, centers=centers, cluster_std=[v0,v1] )\n",
    "    if typ=='Supervisado':\n",
    "        fig = px.scatter(x=X[:,0], y=X[:,1],color=y.astype('int'),width=600, height=600)\n",
    "    else:\n",
    "        fig = px.scatter(x=X[:,0], y=X[:,1], width=600, height=600)\n",
    "    fig.update_traces(marker={'size': 15})\n",
    "    fig.show()"
   ]
  },
  {
   "cell_type": "markdown",
   "id": "listed-southwest",
   "metadata": {},
   "source": [
    "\n",
    " ## [4.1 Clasificación](./Clasificación.ipynb)\n",
    "\n",
    " ## [4.2 Clustering](./Clustering.ipynb)\n",
    "\n",
    " ## [4.3 Regresión](./Regresion.ipynb)"
   ]
  },
  {
   "cell_type": "markdown",
   "id": "norwegian-villa",
   "metadata": {},
   "source": [
    "# [5. Presentación de Resultados](./Presentar%20Resultados.ipynb)"
   ]
  }
 ],
 "metadata": {
  "kernelspec": {
   "display_name": "Python 3",
   "language": "python",
   "name": "python3"
  },
  "language_info": {
   "codemirror_mode": {
    "name": "ipython",
    "version": 3
   },
   "file_extension": ".py",
   "mimetype": "text/x-python",
   "name": "python",
   "nbconvert_exporter": "python",
   "pygments_lexer": "ipython3",
   "version": "3.8.10"
  }
 },
 "nbformat": 4,
 "nbformat_minor": 5
}
